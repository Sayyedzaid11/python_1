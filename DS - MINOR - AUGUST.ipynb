{
  "nbformat": 4,
  "nbformat_minor": 0,
  "metadata": {
    "colab": {
      "provenance": [],
      "authorship_tag": "ABX9TyMRFj8xtKV0nDtEWpDqQsFP",
      "include_colab_link": true
    },
    "kernelspec": {
      "name": "python3",
      "display_name": "Python 3"
    },
    "language_info": {
      "name": "python"
    }
  },
  "cells": [
    {
      "cell_type": "markdown",
      "metadata": {
        "id": "view-in-github",
        "colab_type": "text"
      },
      "source": [
        "<a href=\"https://colab.research.google.com/github/Sayyedzaid11/python_1/blob/SAIYEED-ZAID-ALMAAZ-AHEMAD/DS%20-%20MINOR%20-%20AUGUST.ipynb\" target=\"_parent\"><img src=\"https://colab.research.google.com/assets/colab-badge.svg\" alt=\"Open In Colab\"/></a>"
      ]
    },
    {
      "cell_type": "code",
      "source": [
        "import time\n",
        "\n",
        "class Timer:\n",
        "    def __init__(self, seconds):\n",
        "        self.start_time = time.time()\n",
        "        self.end_time = self.start_time + seconds\n",
        "        self.paused = False\n",
        "        self.paused_time = 0\n",
        "\n",
        "    def is_paused(self):\n",
        "        return self.paused\n",
        "\n",
        "    def pause(self):\n",
        "        if not self.paused:\n",
        "            self.paused = True\n",
        "            self.paused_time = time.time()\n",
        "\n",
        "    def resume(self):\n",
        "        if self.paused:\n",
        "            self.paused = False\n",
        "            self.start_time += time.time() - self.paused_time\n",
        "\n",
        "    def reset(self):\n",
        "        self.start_time = time.time()\n",
        "        self.end_time = self.start_time + seconds\n",
        "        self.paused = False\n",
        "        self.paused_time = 0\n",
        "\n",
        "    def stop(self):\n",
        "        self.end_time = self.start_time\n",
        "\n",
        "    def get_time_left(self):\n",
        "        if self.paused:\n",
        "            return self.end_time - self.paused_time\n",
        "        else:\n",
        "            return self.end_time - time.time()\n",
        "\n",
        "seconds = int(input(\"Enter the number of seconds for the timer: \"))\n",
        "timer = Timer(seconds)\n",
        "\n",
        "while True:\n",
        "    time_left = timer.get_time_left()\n",
        "    if time_left <= 0:\n",
        "        print(\"Time's up!\")\n",
        "        break\n",
        "    else:\n",
        "        print(f\"Time left: {time_left:.2f} seconds\")\n",
        "    action = input(\"Enter 'p' to pause, 'r' to reset, 's' to stop, or 'enter' to continue: \")\n",
        "    if action == 'p':\n",
        "        timer.pause()\n",
        "    elif action == 'r':\n",
        "        timer.reset()\n",
        "    elif action == 's':\n",
        "        timer.stop()\n",
        "        break\n",
        "    time.sleep(1)\n"
      ],
      "metadata": {
        "colab": {
          "base_uri": "https://localhost:8080/",
          "height": 0
        },
        "id": "pF7yC1uke0aa",
        "outputId": "a156e501-2fca-4fc4-c05e-5d452b8a763f"
      },
      "execution_count": 6,
      "outputs": [
        {
          "name": "stdout",
          "output_type": "stream",
          "text": [
            "Enter the number of seconds for the timer: 60\n",
            "Time left: 60.00 seconds\n",
            "Enter 'p' to pause, 'r' to reset, 's' to stop, or 'enter' to continue: p\n",
            "Time left: 53.68 seconds\n",
            "Enter 'p' to pause, 'r' to reset, 's' to stop, or 'enter' to continue: \n",
            "Time left: 53.68 seconds\n",
            "Enter 'p' to pause, 'r' to reset, 's' to stop, or 'enter' to continue: s\n"
          ]
        }
      ]
    }
  ]
}